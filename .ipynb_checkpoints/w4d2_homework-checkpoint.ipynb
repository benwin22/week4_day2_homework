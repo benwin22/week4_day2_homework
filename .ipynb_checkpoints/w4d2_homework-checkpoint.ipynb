{
 "cells": [
  {
   "cell_type": "markdown",
   "metadata": {},
   "source": [
    "# Algorithms and Time Complexity"
   ]
  },
  {
   "cell_type": "markdown",
   "metadata": {},
   "source": [
    "## Tasks Today:\n",
    " \n",
    "1) <b>In-Place Algorithms</b> <br>\n",
    " &nbsp;&nbsp;&nbsp;&nbsp; a) Syntax <br>\n",
    " &nbsp;&nbsp;&nbsp;&nbsp; a) Out of Place Algorithm <br>\n",
    " &nbsp;&nbsp;&nbsp;&nbsp; b) In-Class Exercise #1 <br>\n",
    "2) <b>Two Pointers</b> <br>\n",
    "3) <b>Merge Sort</b> <br>\n",
    " &nbsp;&nbsp;&nbsp;&nbsp; a) Video on Algorithms <br>\n",
    " &nbsp;&nbsp;&nbsp;&nbsp; b) How it Works <br>\n",
    "4) <b>Binary Search</b> <br>\n",
    "5) <b>Exercises</b> <br>\n",
    " &nbsp;&nbsp;&nbsp;&nbsp; a) Exercise #1 - Reverse a List in Place Using an In-Place Algorithm <br>\n",
    " &nbsp;&nbsp;&nbsp;&nbsp; b) Exercise #2 - Find Distinct Words <br>\n",
    " &nbsp;&nbsp;&nbsp;&nbsp; c) Exercise #3 - Write a program to implement a Linear Search Algorithm. <br>"
   ]
  },
  {
   "cell_type": "markdown",
   "metadata": {},
   "source": [
    "## In-Place Algorithms"
   ]
  },
  {
   "cell_type": "markdown",
   "metadata": {},
   "source": [
    "#### Syntax"
   ]
  },
  {
   "cell_type": "code",
   "execution_count": null,
   "metadata": {},
   "outputs": [],
   "source": []
  },
  {
   "cell_type": "code",
   "execution_count": null,
   "metadata": {},
   "outputs": [],
   "source": []
  },
  {
   "cell_type": "code",
   "execution_count": 1,
   "metadata": {},
   "outputs": [
    {
     "name": "stdout",
     "output_type": "stream",
     "text": [
      "Before swap: [20, 4, 10]\n",
      "After Swap: [10, 20, 4]\n"
     ]
    }
   ],
   "source": [
    "#swap locations by index in a list\n",
    "#sometimes known as a swap algorithm\n",
    "# arr[i], arr[i+1] = arr[i+1], arr[i]\n",
    "\n",
    "#        list.  index1, index2, index3\n",
    "#                 positional peramaters\n",
    "def swap(alist, x, y, z):\n",
    "    alist[x], alist[z], alist[y] = alist[z], alist[y], alist[x]\n",
    "    return alist\n",
    "\n",
    "my_list = [20, 4, 10]\n",
    "\n",
    "print(f\"Before swap: {my_list}\")\n",
    "swap(my_list, 0, 1, 2)\n",
    "print(f\"After Swap: {my_list}\")"
   ]
  },
  {
   "cell_type": "code",
   "execution_count": null,
   "metadata": {},
   "outputs": [],
   "source": [
    "def swap(alist, x, y):\n",
    "    alist[x], alist[y] = alist[y], alist[x]\n",
    "    return alist\n",
    "my_list= [4, 3, 6, 5]"
   ]
  },
  {
   "cell_type": "markdown",
   "metadata": {},
   "source": [
    "#### Out of Place Algorithm"
   ]
  },
  {
   "cell_type": "code",
   "execution_count": 8,
   "metadata": {},
   "outputs": [
    {
     "name": "stdout",
     "output_type": "stream",
     "text": [
      "[10, 4, 20]\n",
      "[10, 4, 20]\n",
      "['a', 'a', 'a', 'a']\n",
      "Before: ['a', 'b', 'c', 'd']\n",
      "After: ['d', 'c', 'b', 'a']\n"
     ]
    }
   ],
   "source": [
    "# not swapping, reversing the list\n",
    "# But also copies to another place in memory\n",
    "my_list = [20, 4, 10]\n",
    "\n",
    "my_list_copy = list(reversed(my_list))\n",
    "\n",
    "print(my_list_copy)\n",
    "\n",
    "my_list_copy = my_list[::-1]\n",
    "print(my_list_copy)\n",
    "\n",
    "array = [\"a\", \"b\", \"c\", \"d\"]\n",
    "\n",
    "new_array = ['a'] * len(array)\n",
    "\n",
    "print(new_array)\n",
    "print(f\"Before: {array}\")\n",
    "length = len(array) -1\n",
    "\n",
    "for i in range(length):\n",
    "    new_array[i] = array[length-i]\n",
    "    \n",
    "array = new_array\n",
    "\n",
    "print(f\"After: {array}\")"
   ]
  },
  {
   "cell_type": "markdown",
   "metadata": {},
   "source": [
    "#### In-Class Exercise #1 <br>\n",
    "<p>Write a function that takes in four arguments (list, index1, index2, index3), and swaps those three positions in the list passed in.</p>"
   ]
  },
  {
   "cell_type": "code",
   "execution_count": 12,
   "metadata": {},
   "outputs": [
    {
     "name": "stdout",
     "output_type": "stream",
     "text": [
      "Before ['pirate', 'bunny', 'ninja']\n",
      "After ['ninja', 'pirate', 'bunny']\n"
     ]
    }
   ],
   "source": [
    "def swap(blist, Kym, Ben, Miguel):\n",
    "    blist[Ben], blist[Kym], blist[Miguel] = blist[Kym], blist[Miguel], blist[Ben]\n",
    "    return blist\n",
    "\n",
    "clist = [\"pirate\", \"bunny\", \"ninja\"]\n",
    "\n",
    "print(f\"Before {clist}\")\n",
    "swap(clist, 0, 1, 2)\n",
    "print(f\"After {clist}\")"
   ]
  },
  {
   "cell_type": "markdown",
   "metadata": {},
   "source": [
    "## Two Pointers"
   ]
  },
  {
   "cell_type": "markdown",
   "metadata": {},
   "source": [
    "#### Syntax"
   ]
  },
  {
   "cell_type": "code",
   "execution_count": 14,
   "metadata": {},
   "outputs": [
    {
     "name": "stdout",
     "output_type": "stream",
     "text": [
      "Before pointer reverse: [1, 2, 3, 4, 8, 9, 11, 12, 22]\n",
      "After pointer revers: [22, 12, 11, 9, 8, 4, 3, 2, 1]\n"
     ]
    }
   ],
   "source": [
    "# alist[left], alist[right] = alist[right], alist[left]\n",
    "# use two pointesr to swap, can use a while loop in most cases\n",
    "# the list must be sorted\n",
    "# using pointers to reverse a list while swapping\n",
    "def two_pointers(alist):\n",
    "#     alist.sort() if you need to sort a list it will increase the time complexity a little bit\n",
    "#     create our pointers\n",
    "    left = 0\n",
    "    right = len(alist) -1\n",
    "    \n",
    "    while left <= right:\n",
    "        alist[left], alist[right] = alist[right], alist[left]\n",
    "        left += 1\n",
    "        right -= 1\n",
    "    return alist\n",
    "\n",
    "my_list = [1, 2, 3, 4, 8, 9, 11, 12, 22]\n",
    "\n",
    "print(f\"Before pointer reverse: {my_list}\")\n",
    "two_pointers(my_list)\n",
    "print(f\"After pointer revers: {my_list}\")\n",
    "\n",
    "\n"
   ]
  },
  {
   "cell_type": "markdown",
   "metadata": {},
   "source": [
    "#### Video of Algorithms <br>\n",
    "<p>Watch the video about algorithms.</p>\n",
    "\n",
    "https://www.youtube.com/watch?v=Q9HjeFD62Uk\n",
    "\n",
    "https://www.youtube.com/watch?v=kPRA0W1kECg\n",
    "\n",
    "https://www.youtube.com/watch?v=ZZuD6iUe3Pc"
   ]
  },
  {
   "cell_type": "markdown",
   "metadata": {},
   "source": [
    "# Sorting Algorithms"
   ]
  },
  {
   "cell_type": "code",
   "execution_count": null,
   "metadata": {},
   "outputs": [],
   "source": [
    "# Time complexity\n",
    "# how many actions have to happen per itms it takes as inputs\n"
   ]
  },
  {
   "cell_type": "markdown",
   "metadata": {},
   "source": [
    "#### Bubble Sort\n",
    "\n",
    "Worst Case: O(n^2) Time - O(1) Space"
   ]
  },
  {
   "cell_type": "code",
   "execution_count": 26,
   "metadata": {},
   "outputs": [
    {
     "data": {
      "text/plain": [
       "[1, 22, 34, 44, 55, 66, 88, 100]"
      ]
     },
     "execution_count": 26,
     "metadata": {},
     "output_type": "execute_result"
    }
   ],
   "source": [
    "# Best Case Linear\n",
    "# Worst Case Quadratic\n",
    "\n",
    "my_array = [100, 88, 22, 55, 44, 1, 34, 66]\n",
    "\n",
    "\n",
    "# helper function\n",
    "#  assist another function with its goal\n",
    "def swap(i, j, array):\n",
    "    array[i], array[j] = array[j], array[i]\n",
    "    \n",
    "# def bubble_sort(array):\n",
    "# #     flag\n",
    "#     is_sorted = False \n",
    "#     while not is_sorted:\n",
    "#         is_sorted = True\n",
    "#         for i in range(len(array) -1):\n",
    "#             if array[i] > array[i +1]:\n",
    "#                 swap(i, i + 1, array)\n",
    "#                 is_Sorted = False\n",
    "#     return array\n",
    "# my_array = [100, 88, 22, 55, 44, 1, 34, 66]\n",
    "# bubble_sort(my_array)\n",
    "\n",
    "def bubble_sort(array):\n",
    "    is_sorted = False\n",
    "    while not is_sorted:\n",
    "        is_sorted = True\n",
    "        for i in range(len(array) -1):\n",
    "            if array[i] > array[i + 1]:\n",
    "                swap(i, i + 1, array)\n",
    "                is_sorted = False\n",
    "    return array\n",
    "my_array = [100, 88, 22, 55, 44, 1, 34, 66] \n",
    "bubble_sort(my_array)"
   ]
  },
  {
   "cell_type": "code",
   "execution_count": 29,
   "metadata": {},
   "outputs": [
    {
     "data": {
      "text/plain": [
       "[1, 22, 34, 44, 55, 66, 88, 100]"
      ]
     },
     "execution_count": 29,
     "metadata": {},
     "output_type": "execute_result"
    }
   ],
   "source": [
    "def swap(i, j, array):\n",
    "    array[i], array[j] = array[j], array[i]\n",
    "    \n",
    "def bubble_sort(array):\n",
    "    is_sorted = False \n",
    "    while not is_sorted:\n",
    "        is_sorted = True\n",
    "        for i in range(len(array) -1):\n",
    "            if array[i] > array[i + 1]:\n",
    "                swap(i, i + 1, array)\n",
    "                is_sorted = False\n",
    "    return array\n",
    "my_array = [100, 88, 22, 55, 44, 1, 34, 66]\n",
    "bubble_sort(my_array)"
   ]
  },
  {
   "cell_type": "markdown",
   "metadata": {},
   "source": [
    "##### Insertion Sort\n",
    "\n",
    "Worst Case: O(n^2) time - O(1)space"
   ]
  },
  {
   "cell_type": "code",
   "execution_count": 31,
   "metadata": {},
   "outputs": [
    {
     "data": {
      "text/plain": [
       "[1, 22, 34, 44, 55, 66, 88, 100]"
      ]
     },
     "execution_count": 31,
     "metadata": {},
     "output_type": "execute_result"
    }
   ],
   "source": [
    "def swap(i, j, array):\n",
    "    array[i], array[j] = array[j], array[i]\n",
    "    \n",
    "def insertion_sort(array):\n",
    "    for i in range(1, len(array)): # starts at 1, 0 is considered sorted\n",
    "        j = i\n",
    "        while j > 0 and array[j] < array[j - 1]:\n",
    "            swap(j, j - 1, array)\n",
    "            j -= 1\n",
    "            \n",
    "    return array\n",
    "\n",
    "insertion_sort([100, 88, 22, 55, 44, 1, 34, 66])\n",
    "            \n",
    "            "
   ]
  },
  {
   "cell_type": "markdown",
   "metadata": {},
   "source": [
    "## Merge Sort"
   ]
  },
  {
   "cell_type": "markdown",
   "metadata": {},
   "source": [
    "#### How it Works"
   ]
  },
  {
   "cell_type": "code",
   "execution_count": 37,
   "metadata": {},
   "outputs": [
    {
     "name": "stdout",
     "output_type": "stream",
     "text": [
      "Splitting [100, 88, 22, 55, 44, 1, 34, 66]\n",
      "Splitting [100, 88, 22, 55]\n",
      "Splitting [100, 88]\n",
      "Splitting [100]\n",
      "Merging:  [100]\n",
      "Splitting [88]\n",
      "Merging:  [88]\n",
      "Merging:  [88, 100]\n",
      "Splitting [22, 55]\n",
      "Splitting [22]\n",
      "Merging:  [22]\n",
      "Splitting [55]\n",
      "Merging:  [55]\n",
      "Merging:  [22, 55]\n",
      "Merging:  [22, 55, 88, 100]\n",
      "Splitting [44, 1, 34, 66]\n",
      "Splitting [44, 1]\n",
      "Splitting [44]\n",
      "Merging:  [44]\n",
      "Splitting [1]\n",
      "Merging:  [1]\n",
      "Merging:  [1, 44]\n",
      "Splitting [34, 66]\n",
      "Splitting [34]\n",
      "Merging:  [34]\n",
      "Splitting [66]\n",
      "Merging:  [66]\n",
      "Merging:  [34, 66]\n",
      "Merging:  [1, 34, 44, 66]\n",
      "Merging:  [1, 22, 34, 44, 55, 66, 88, 100]\n"
     ]
    },
    {
     "data": {
      "text/plain": [
       "[1, 22, 34, 44, 55, 66, 88, 100]"
      ]
     },
     "execution_count": 37,
     "metadata": {},
     "output_type": "execute_result"
    }
   ],
   "source": [
    "# Step 1: Split Everything into its own group\n",
    "# Step 2: From left to right merge two groups together\n",
    "# STep 3: While merging, place each item in its correct position within the merged group\n",
    "# Step 4: Repeat step 3 until one group is left\n",
    "\n",
    "my_array = [100, 88, 22, 55, 44, 1, 34, 66]\n",
    "\n",
    "\n",
    "def mergeSort(alist):\n",
    "    print(\"Splitting\", alist)\n",
    "    \n",
    "    #step 1: dividing the array into equal parts (as much as we can)\n",
    "    if len(alist) > 1:\n",
    "        mid = len(alist) // 2 # floor b/c we can't have decimals\n",
    "        lefthalf = alist[:mid]\n",
    "        righthalf = alist[mid:]\n",
    "#  Recursion is the process of defining something in terms of itself. A physical world example would be to place two parallel mirrors facing each other.       \n",
    "        #recursively call mergeSort to perform splits if needed\n",
    "        # then merge once we're done splitting\n",
    "        mergeSort(lefthalf)\n",
    "        mergeSort(righthalf)\n",
    "        \n",
    "        # index pointers for our list\n",
    "        l = 0 #pointer for left half\n",
    "        r = 0 #pointer for right half\n",
    "        m = 0 #pointer for main array\n",
    "        \n",
    "        \n",
    "        #step 2 compare lefthalf and righthald\n",
    "        while l < len(lefthalf) and r < len(righthalf):#<--while loop\n",
    "            if lefthalf[l] < righthalf[r]:\n",
    "                alist[m] = lefthalf[l]\n",
    "                l += 1 #<--- incrementing +=\n",
    "            else:\n",
    "                alist[m] = righthalf[r]\n",
    "                r += 1\n",
    "            m+=1\n",
    "        #step 3: While merging, place items in correct position\n",
    "        while l < len(lefthalf):\n",
    "            alist[m] = lefthalf[l]\n",
    "            l+=1\n",
    "            m+=1\n",
    "        while r < len(righthalf):\n",
    "            alist[m] = righthalf[r]\n",
    "            r+=1\n",
    "            m+=1\n",
    "                \n",
    "        \n",
    "    print(\"Merging: \", alist)\n",
    "    return alist\n",
    "\n",
    "mergeSort(my_array)  \n",
    "        "
   ]
  },
  {
   "cell_type": "markdown",
   "metadata": {},
   "source": [
    "# Binary Search\n",
    "\n",
    "The Binary Search algorithm works by finding the number in the middle of a given array and comparing it to the target. Given that the array is sorted\n",
    "\n",
    "* The worst case run time for this algorithm is `O(log(n))`"
   ]
  },
  {
   "cell_type": "code",
   "execution_count": 49,
   "metadata": {},
   "outputs": [
    {
     "data": {
      "text/plain": [
       "'The index is...1'"
      ]
     },
     "execution_count": 49,
     "metadata": {},
     "output_type": "execute_result"
    }
   ],
   "source": [
    "# Less goes to the left\n",
    "# Greater goes to the right\n",
    "# List of numbers must be sorted\n",
    "\n",
    "def binary_search(array, target):\n",
    "    left = 0\n",
    "    right = len(array) - 1\n",
    "    \n",
    "    while left <= right:\n",
    "        middle = (left + right) // 2 #setting index and flooring getting middle index\n",
    "        potential_match = array[middle]\n",
    "        if target == potential_match:\n",
    "            return f\"The index is...{middle}\"\n",
    "        elif target < potential_match:\n",
    "            right = middle -1\n",
    "        else:\n",
    "            left = middle + 1\n",
    "    return -1\n",
    "\n",
    "binary_search([1, 22, 34, 44, 55, 66, 88, 100], 22)"
   ]
  },
  {
   "cell_type": "markdown",
   "metadata": {},
   "source": [
    "# Exercises"
   ]
  },
  {
   "cell_type": "markdown",
   "metadata": {},
   "source": [
    "### Exercise #1 <br>\n",
    "<p>Reverse the list below in-place using an in-place algorithm.<br>For extra credit: Reverse the strings at the same time.</p>"
   ]
  },
  {
   "cell_type": "code",
   "execution_count": 48,
   "metadata": {},
   "outputs": [
    {
     "name": "stdout",
     "output_type": "stream",
     "text": [
      "['this', 'this', 'this', 'this', 'this']\n",
      "before:['this', 'is', 'a', 'sentence', '.']\n",
      "after:['.', 'sentence', 'a', 'is', 'this']\n"
     ]
    }
   ],
   "source": [
    "# words = ['this' , 'is', 'a', 'sentence', '.']\n",
    "\n",
    "# def swap(words, this, is, a, sentence,.)\n",
    "#     words['this'], words['is'], words['a'], words['sentence'], words['.'] =  words['.'],words['sentence'], words['a'], words['is'], words['this']\n",
    "#     return words\n",
    "\n",
    "# my_words = ([words['this'], words['is'], words['a'], words['sentence'], words['.'] =  words['.'],words['sentence'], words['a'], words['is'], words['this']])\n",
    "\n",
    "# print(f\"before: {my_words}\")\n",
    "# swap(my_words, 0,1,2,3,4)\n",
    "# print(f\"after: {my_words}\")\n",
    "\n",
    "\n",
    "words = ['this' , 'is', 'a', 'sentence', '.']\n",
    "\n",
    "new_words = ['this'] * len(words)\n",
    "print(new_words)\n",
    "\n",
    "print(f\"before:{words}\")\n",
    "length = len(words) - 1\n",
    "for i in range(length):\n",
    "    new_words[i] = words[length-i]\n",
    "words = new_words\n",
    "print(f\"after:{words}\")\n",
    "    \n",
    "    \n",
    "    \n",
    "    "
   ]
  },
  {
   "cell_type": "markdown",
   "metadata": {},
   "source": [
    "### Exercise #2 <br>\n",
    "<p>Create a function that counts how many distinct words are in the string below, then outputs a dictionary with the words as the key and the value as the amount of times that word appears in the string.<br>Should output:<br>{'a': 5,<br>\n",
    " 'abstract': 1,<br>\n",
    " 'an': 3,<br>\n",
    " 'array': 2, ... etc...</p>"
   ]
  },
  {
   "cell_type": "code",
   "execution_count": 68,
   "metadata": {},
   "outputs": [
    {
     "name": "stdout",
     "output_type": "stream",
     "text": [
      "{'In computing, a hash table hash map is a data structure which implements an associative array abstract data type, a structure that can map keys to values. A hash table uses a hash function to compute an index into an array of buckets or slots from which the desired value can be found'}\n",
      "\n"
     ]
    }
   ],
   "source": [
    "a_text = \"{'In computing, a hash table hash map is a data structure which implements an associative array abstract data type, a structure that can map keys to values. A hash table uses a hash function to compute an index into an array of buckets or slots from which the desired value can be found'}\"\n",
    "\n",
    "dict = eval(a_text)\n",
    "print(dict)\n",
    "print()\n",
    "# i need to fix this"
   ]
  },
  {
   "cell_type": "markdown",
   "metadata": {},
   "source": [
    "## Exercise #3\n",
    "\n",
    "<p>Use binary search to return the index of the target num</p>\n",
    "\n"
   ]
  },
  {
   "cell_type": "code",
   "execution_count": 55,
   "metadata": {},
   "outputs": [
    {
     "data": {
      "text/plain": [
       "'The index is...7'"
      ]
     },
     "execution_count": 55,
     "metadata": {},
     "output_type": "execute_result"
    }
   ],
   "source": [
    "cool_list = [2, 5, 6, 12, 45, 47, 98, 123, 1000]\n",
    "target = 123\n",
    "\n",
    "def binary_search(array, target):\n",
    "    left = 0\n",
    "    right = len(array) - 1\n",
    "    \n",
    "    while left <= right:\n",
    "        middle = (left + right) // 2 #setting index and flooring getting middle index\n",
    "        potential_match = array[middle]\n",
    "        if target == potential_match:\n",
    "            return f\"The index is...{middle}\"\n",
    "        elif target < potential_match:\n",
    "            right = middle -1\n",
    "        else:\n",
    "            left = middle + 1\n",
    "    return -1\n",
    "\n",
    "binary_search([2, 5, 6, 12, 45, 47, 98, 123, 1000], 123)"
   ]
  },
  {
   "cell_type": "code",
   "execution_count": null,
   "metadata": {},
   "outputs": [],
   "source": []
  }
 ],
 "metadata": {
  "kernelspec": {
   "display_name": "Python 3 (ipykernel)",
   "language": "python",
   "name": "python3"
  },
  "language_info": {
   "codemirror_mode": {
    "name": "ipython",
    "version": 3
   },
   "file_extension": ".py",
   "mimetype": "text/x-python",
   "name": "python",
   "nbconvert_exporter": "python",
   "pygments_lexer": "ipython3",
   "version": "3.11.4"
  }
 },
 "nbformat": 4,
 "nbformat_minor": 2
}
